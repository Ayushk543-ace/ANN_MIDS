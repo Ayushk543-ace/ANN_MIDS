{
  "cells": [
    {
      "cell_type": "code",
      "execution_count": 1,
      "id": "5f11bae5",
      "metadata": {
        "id": "5f11bae5"
      },
      "outputs": [],
      "source": [
        "data=\"Twenty years ago, I dug a hole at a fever pitch while on a beach in South Padre Island, Texas. It was a shallow hole, but enough to contain vomit full of beer and Lunchables that I’d deposited into the trench. After wiping my mouth and scooping sand over the puke, I stood triumphant and raised a fist to a chorus of cheers. I’d just beer-bonged three Miller Lites on a challenge.For the uninitiated, beer bonging is when you pour beer into a funnel attached to a long piece of plastic tubing and then consume the alcohol as fast as possible. This process leaves you unbelievably drunk, but it’s a rite of passage among many college students. Granted, I couldn’t keep the liquid down, but the other college co-eds found the feat impressive.A few months earlier, I’d returned from the military’s Defense Language Institute, where I’d picked up another language. In search of a break from college and military routine, I joined my brother and a group of friends for Spring Break. My brother was the first to greet me post vomit escapade and slapped my increasingly pink shoulder, then handed me an ice-cold beer. I gratefully accepted and rinsed my mouth with the cold liquid.\""
      ]
    },
    {
      "cell_type": "code",
      "execution_count": 2,
      "id": "9f2659ca",
      "metadata": {
        "colab": {
          "base_uri": "https://localhost:8080/",
          "height": 123
        },
        "id": "9f2659ca",
        "outputId": "48625b60-c95d-4cb8-dc6b-13298e3a1246"
      },
      "outputs": [
        {
          "output_type": "execute_result",
          "data": {
            "text/plain": [
              "'Twenty years ago, I dug a hole at a fever pitch while on a beach in South Padre Island, Texas. It was a shallow hole, but enough to contain vomit full of beer and Lunchables that I’d deposited into the trench. After wiping my mouth and scooping sand over the puke, I stood triumphant and raised a fist to a chorus of cheers. I’d just beer-bonged three Miller Lites on a challenge.For the uninitiated, beer bonging is when you pour beer into a funnel attached to a long piece of plastic tubing and then consume the alcohol as fast as possible. This process leaves you unbelievably drunk, but it’s a rite of passage among many college students. Granted, I couldn’t keep the liquid down, but the other college co-eds found the feat impressive.A few months earlier, I’d returned from the military’s Defense Language Institute, where I’d picked up another language. In search of a break from college and military routine, I joined my brother and a group of friends for Spring Break. My brother was the first to greet me post vomit escapade and slapped my increasingly pink shoulder, then handed me an ice-cold beer. I gratefully accepted and rinsed my mouth with the cold liquid.'"
            ],
            "application/vnd.google.colaboratory.intrinsic+json": {
              "type": "string"
            }
          },
          "metadata": {},
          "execution_count": 2
        }
      ],
      "source": [
        "data"
      ]
    },
    {
      "cell_type": "code",
      "execution_count": 3,
      "id": "808de882",
      "metadata": {
        "id": "808de882"
      },
      "outputs": [],
      "source": [
        "import numpy as np # linear algebra\n",
        "import pandas as pd # data processing, CSV file I/O (e.g. pd.read_csv)\n",
        "import re"
      ]
    },
    {
      "cell_type": "code",
      "execution_count": 4,
      "id": "a8d4535e",
      "metadata": {
        "colab": {
          "base_uri": "https://localhost:8080/",
          "height": 123
        },
        "id": "a8d4535e",
        "outputId": "b72d14b6-8ad6-42fa-d182-43178b7016d0"
      },
      "outputs": [
        {
          "output_type": "execute_result",
          "data": {
            "text/plain": [
              "'twenty years ago, i dug a hole at a fever pitch while on a beach in south padre island, texas. it was a shallow hole, but enough to contain vomit full of beer and lunchables that i’d deposited into the trench. after wiping my mouth and scooping sand over the puke, i stood triumphant and raised a fist to a chorus of cheers. i’d just beer-bonged three miller lites on a challenge.for the uninitiated, beer bonging is when you pour beer into a funnel attached to a long piece of plastic tubing and then consume the alcohol as fast as possible. this process leaves you unbelievably drunk, but it’s a rite of passage among many college students. granted, i couldn’t keep the liquid down, but the other college co-eds found the feat impressive.a few months earlier, i’d returned from the military’s defense language institute, where i’d picked up another language. in search of a break from college and military routine, i joined my brother and a group of friends for spring break. my brother was the first to greet me post vomit escapade and slapped my increasingly pink shoulder, then handed me an ice-cold beer. i gratefully accepted and rinsed my mouth with the cold liquid.'"
            ],
            "application/vnd.google.colaboratory.intrinsic+json": {
              "type": "string"
            }
          },
          "metadata": {},
          "execution_count": 4
        }
      ],
      "source": [
        "data = data.lower()\n",
        "data"
      ]
    },
    {
      "cell_type": "code",
      "execution_count": 5,
      "id": "25d2f484",
      "metadata": {
        "colab": {
          "base_uri": "https://localhost:8080/",
          "height": 123
        },
        "id": "25d2f484",
        "outputId": "ec328ff6-bb04-4055-e61d-375ff7859fea"
      },
      "outputs": [
        {
          "output_type": "execute_result",
          "data": {
            "text/plain": [
              "'twenty years ago i dug a hole at a fever pitch while on a beach in south padre island texas it was a shallow hole but enough to contain vomit full of beer and lunchables that id deposited into the trench after wiping my mouth and scooping sand over the puke i stood triumphant and raised a fist to a chorus of cheers id just beerbonged three miller lites on a challengefor the uninitiated beer bonging is when you pour beer into a funnel attached to a long piece of plastic tubing and then consume the alcohol as fast as possible this process leaves you unbelievably drunk but its a rite of passage among many college students granted i couldnt keep the liquid down but the other college coeds found the feat impressivea few months earlier id returned from the militarys defense language institute where id picked up another language in search of a break from college and military routine i joined my brother and a group of friends for spring break my brother was the first to greet me post vomit escapade and slapped my increasingly pink shoulder then handed me an icecold beer i gratefully accepted and rinsed my mouth with the cold liquid'"
            ],
            "application/vnd.google.colaboratory.intrinsic+json": {
              "type": "string"
            }
          },
          "metadata": {},
          "execution_count": 5
        }
      ],
      "source": [
        "data = re.sub('[^a-zA-z0-9\\s]','',data)\n",
        "data"
      ]
    },
    {
      "cell_type": "code",
      "execution_count": 6,
      "id": "9545a1a4",
      "metadata": {
        "colab": {
          "base_uri": "https://localhost:8080/"
        },
        "id": "9545a1a4",
        "outputId": "914dfb20-9f68-46ca-e734-fba472129cca"
      },
      "outputs": [
        {
          "output_type": "stream",
          "name": "stdout",
          "text": [
            "Looking in indexes: https://pypi.org/simple, https://us-python.pkg.dev/colab-wheels/public/simple/\n",
            "Collecting tensorflow-cpu\n",
            "  Downloading tensorflow_cpu-2.12.0-cp310-cp310-manylinux_2_17_x86_64.manylinux2014_x86_64.whl (231.8 MB)\n",
            "\u001b[2K     \u001b[90m━━━━━━━━━━━━━━━━━━━━━━━━━━━━━━━━━━━━━━━\u001b[0m \u001b[32m231.8/231.8 MB\u001b[0m \u001b[31m4.0 MB/s\u001b[0m eta \u001b[36m0:00:00\u001b[0m\n",
            "\u001b[?25hRequirement already satisfied: absl-py>=1.0.0 in /usr/local/lib/python3.10/dist-packages (from tensorflow-cpu) (1.4.0)\n",
            "Requirement already satisfied: astunparse>=1.6.0 in /usr/local/lib/python3.10/dist-packages (from tensorflow-cpu) (1.6.3)\n",
            "Requirement already satisfied: flatbuffers>=2.0 in /usr/local/lib/python3.10/dist-packages (from tensorflow-cpu) (23.3.3)\n",
            "Requirement already satisfied: gast<=0.4.0,>=0.2.1 in /usr/local/lib/python3.10/dist-packages (from tensorflow-cpu) (0.4.0)\n",
            "Requirement already satisfied: google-pasta>=0.1.1 in /usr/local/lib/python3.10/dist-packages (from tensorflow-cpu) (0.2.0)\n",
            "Requirement already satisfied: grpcio<2.0,>=1.24.3 in /usr/local/lib/python3.10/dist-packages (from tensorflow-cpu) (1.54.0)\n",
            "Requirement already satisfied: h5py>=2.9.0 in /usr/local/lib/python3.10/dist-packages (from tensorflow-cpu) (3.8.0)\n",
            "Requirement already satisfied: jax>=0.3.15 in /usr/local/lib/python3.10/dist-packages (from tensorflow-cpu) (0.4.8)\n",
            "Requirement already satisfied: keras<2.13,>=2.12.0 in /usr/local/lib/python3.10/dist-packages (from tensorflow-cpu) (2.12.0)\n",
            "Requirement already satisfied: libclang>=13.0.0 in /usr/local/lib/python3.10/dist-packages (from tensorflow-cpu) (16.0.0)\n",
            "Requirement already satisfied: numpy<1.24,>=1.22 in /usr/local/lib/python3.10/dist-packages (from tensorflow-cpu) (1.22.4)\n",
            "Requirement already satisfied: opt-einsum>=2.3.2 in /usr/local/lib/python3.10/dist-packages (from tensorflow-cpu) (3.3.0)\n",
            "Requirement already satisfied: packaging in /usr/local/lib/python3.10/dist-packages (from tensorflow-cpu) (23.1)\n",
            "Requirement already satisfied: protobuf!=4.21.0,!=4.21.1,!=4.21.2,!=4.21.3,!=4.21.4,!=4.21.5,<5.0.0dev,>=3.20.3 in /usr/local/lib/python3.10/dist-packages (from tensorflow-cpu) (3.20.3)\n",
            "Requirement already satisfied: setuptools in /usr/local/lib/python3.10/dist-packages (from tensorflow-cpu) (67.7.2)\n",
            "Requirement already satisfied: six>=1.12.0 in /usr/local/lib/python3.10/dist-packages (from tensorflow-cpu) (1.16.0)\n",
            "Requirement already satisfied: tensorboard<2.13,>=2.12 in /usr/local/lib/python3.10/dist-packages (from tensorflow-cpu) (2.12.2)\n",
            "Requirement already satisfied: tensorflow-estimator<2.13,>=2.12.0 in /usr/local/lib/python3.10/dist-packages (from tensorflow-cpu) (2.12.0)\n",
            "Requirement already satisfied: termcolor>=1.1.0 in /usr/local/lib/python3.10/dist-packages (from tensorflow-cpu) (2.3.0)\n",
            "Requirement already satisfied: typing-extensions>=3.6.6 in /usr/local/lib/python3.10/dist-packages (from tensorflow-cpu) (4.5.0)\n",
            "Requirement already satisfied: wrapt<1.15,>=1.11.0 in /usr/local/lib/python3.10/dist-packages (from tensorflow-cpu) (1.14.1)\n",
            "Requirement already satisfied: tensorflow-io-gcs-filesystem>=0.23.1 in /usr/local/lib/python3.10/dist-packages (from tensorflow-cpu) (0.32.0)\n",
            "Requirement already satisfied: wheel<1.0,>=0.23.0 in /usr/local/lib/python3.10/dist-packages (from astunparse>=1.6.0->tensorflow-cpu) (0.40.0)\n",
            "Requirement already satisfied: ml-dtypes>=0.0.3 in /usr/local/lib/python3.10/dist-packages (from jax>=0.3.15->tensorflow-cpu) (0.1.0)\n",
            "Requirement already satisfied: scipy>=1.7 in /usr/local/lib/python3.10/dist-packages (from jax>=0.3.15->tensorflow-cpu) (1.10.1)\n",
            "Requirement already satisfied: google-auth<3,>=1.6.3 in /usr/local/lib/python3.10/dist-packages (from tensorboard<2.13,>=2.12->tensorflow-cpu) (2.17.3)\n",
            "Requirement already satisfied: google-auth-oauthlib<1.1,>=0.5 in /usr/local/lib/python3.10/dist-packages (from tensorboard<2.13,>=2.12->tensorflow-cpu) (1.0.0)\n",
            "Requirement already satisfied: markdown>=2.6.8 in /usr/local/lib/python3.10/dist-packages (from tensorboard<2.13,>=2.12->tensorflow-cpu) (3.4.3)\n",
            "Requirement already satisfied: requests<3,>=2.21.0 in /usr/local/lib/python3.10/dist-packages (from tensorboard<2.13,>=2.12->tensorflow-cpu) (2.27.1)\n",
            "Requirement already satisfied: tensorboard-data-server<0.8.0,>=0.7.0 in /usr/local/lib/python3.10/dist-packages (from tensorboard<2.13,>=2.12->tensorflow-cpu) (0.7.0)\n",
            "Requirement already satisfied: tensorboard-plugin-wit>=1.6.0 in /usr/local/lib/python3.10/dist-packages (from tensorboard<2.13,>=2.12->tensorflow-cpu) (1.8.1)\n",
            "Requirement already satisfied: werkzeug>=1.0.1 in /usr/local/lib/python3.10/dist-packages (from tensorboard<2.13,>=2.12->tensorflow-cpu) (2.3.0)\n",
            "Requirement already satisfied: cachetools<6.0,>=2.0.0 in /usr/local/lib/python3.10/dist-packages (from google-auth<3,>=1.6.3->tensorboard<2.13,>=2.12->tensorflow-cpu) (5.3.0)\n",
            "Requirement already satisfied: pyasn1-modules>=0.2.1 in /usr/local/lib/python3.10/dist-packages (from google-auth<3,>=1.6.3->tensorboard<2.13,>=2.12->tensorflow-cpu) (0.3.0)\n",
            "Requirement already satisfied: rsa<5,>=3.1.4 in /usr/local/lib/python3.10/dist-packages (from google-auth<3,>=1.6.3->tensorboard<2.13,>=2.12->tensorflow-cpu) (4.9)\n",
            "Requirement already satisfied: requests-oauthlib>=0.7.0 in /usr/local/lib/python3.10/dist-packages (from google-auth-oauthlib<1.1,>=0.5->tensorboard<2.13,>=2.12->tensorflow-cpu) (1.3.1)\n",
            "Requirement already satisfied: urllib3<1.27,>=1.21.1 in /usr/local/lib/python3.10/dist-packages (from requests<3,>=2.21.0->tensorboard<2.13,>=2.12->tensorflow-cpu) (1.26.15)\n",
            "Requirement already satisfied: certifi>=2017.4.17 in /usr/local/lib/python3.10/dist-packages (from requests<3,>=2.21.0->tensorboard<2.13,>=2.12->tensorflow-cpu) (2022.12.7)\n",
            "Requirement already satisfied: charset-normalizer~=2.0.0 in /usr/local/lib/python3.10/dist-packages (from requests<3,>=2.21.0->tensorboard<2.13,>=2.12->tensorflow-cpu) (2.0.12)\n",
            "Requirement already satisfied: idna<4,>=2.5 in /usr/local/lib/python3.10/dist-packages (from requests<3,>=2.21.0->tensorboard<2.13,>=2.12->tensorflow-cpu) (3.4)\n",
            "Requirement already satisfied: MarkupSafe>=2.1.1 in /usr/local/lib/python3.10/dist-packages (from werkzeug>=1.0.1->tensorboard<2.13,>=2.12->tensorflow-cpu) (2.1.2)\n",
            "Requirement already satisfied: pyasn1<0.6.0,>=0.4.6 in /usr/local/lib/python3.10/dist-packages (from pyasn1-modules>=0.2.1->google-auth<3,>=1.6.3->tensorboard<2.13,>=2.12->tensorflow-cpu) (0.5.0)\n",
            "Requirement already satisfied: oauthlib>=3.0.0 in /usr/local/lib/python3.10/dist-packages (from requests-oauthlib>=0.7.0->google-auth-oauthlib<1.1,>=0.5->tensorboard<2.13,>=2.12->tensorflow-cpu) (3.2.2)\n",
            "Installing collected packages: tensorflow-cpu\n",
            "Successfully installed tensorflow-cpu-2.12.0\n"
          ]
        }
      ],
      "source": [
        "!pip install tensorflow-cpu"
      ]
    },
    {
      "cell_type": "code",
      "execution_count": 7,
      "id": "d952bc97",
      "metadata": {
        "colab": {
          "base_uri": "https://localhost:8080/"
        },
        "id": "d952bc97",
        "outputId": "19eba32a-38da-48e8-cf7b-c27352c4b683"
      },
      "outputs": [
        {
          "output_type": "stream",
          "name": "stdout",
          "text": [
            "Looking in indexes: https://pypi.org/simple, https://us-python.pkg.dev/colab-wheels/public/simple/\n",
            "Requirement already satisfied: keras in /usr/local/lib/python3.10/dist-packages (2.12.0)\n"
          ]
        }
      ],
      "source": [
        "!pip install keras"
      ]
    },
    {
      "cell_type": "code",
      "execution_count": 8,
      "id": "38d58f0b",
      "metadata": {
        "id": "38d58f0b"
      },
      "outputs": [],
      "source": [
        "import tensorflow \n",
        "from keras.preprocessing.text import Tokenizer\n",
        "from keras.utils import pad_sequences\n",
        "from keras.models import Sequential\n",
        "from keras.layers import Dense, Embedding, LSTM, SpatialDropout1D"
      ]
    },
    {
      "cell_type": "code",
      "execution_count": 9,
      "id": "4eddb5e4",
      "metadata": {
        "id": "4eddb5e4"
      },
      "outputs": [],
      "source": [
        "max_fatures = 2000\n",
        "tokenizer = Tokenizer(num_words=max_fatures, split=' ')\n",
        "tokenizer.fit_on_texts(data)\n",
        "X = tokenizer.texts_to_sequences(data)\n",
        "X = pad_sequences(X)"
      ]
    },
    {
      "cell_type": "code",
      "execution_count": 10,
      "id": "a1bf34ea",
      "metadata": {
        "colab": {
          "base_uri": "https://localhost:8080/"
        },
        "id": "a1bf34ea",
        "outputId": "f9bce6b3-e363-4b54-9a19-c6b6f6269e59"
      },
      "outputs": [
        {
          "output_type": "stream",
          "name": "stdout",
          "text": [
            "Model: \"sequential\"\n",
            "_________________________________________________________________\n",
            " Layer (type)                Output Shape              Param #   \n",
            "=================================================================\n",
            " embedding (Embedding)       (None, 1, 128)            256000    \n",
            "                                                                 \n",
            " spatial_dropout1d (SpatialD  (None, 1, 128)           0         \n",
            " ropout1D)                                                       \n",
            "                                                                 \n",
            " lstm (LSTM)                 (None, 196)               254800    \n",
            "                                                                 \n",
            " dense (Dense)               (None, 2)                 394       \n",
            "                                                                 \n",
            "=================================================================\n",
            "Total params: 511,194\n",
            "Trainable params: 511,194\n",
            "Non-trainable params: 0\n",
            "_________________________________________________________________\n",
            "None\n"
          ]
        }
      ],
      "source": [
        "embed_dim = 128\n",
        "lstm_out = 196\n",
        "\n",
        "model = Sequential()\n",
        "model.add(Embedding(max_fatures, embed_dim,input_length = X.shape[1]))\n",
        "model.add(SpatialDropout1D(0.4))\n",
        "model.add(LSTM(lstm_out, dropout=0.2, recurrent_dropout=0.2))\n",
        "model.add(Dense(2,activation='softmax'))\n",
        "model.compile(loss = 'categorical_crossentropy', optimizer='adam',metrics = ['accuracy'])\n",
        "print(model.summary())"
      ]
    },
    {
      "cell_type": "code",
      "execution_count": null,
      "id": "2d82ba02",
      "metadata": {
        "colab": {
          "base_uri": "https://localhost:8080/"
        },
        "id": "2d82ba02",
        "outputId": "63a8ddc1-ac99-4a8e-a724-ee41cad7b57e"
      },
      "outputs": [
        {
          "output_type": "stream",
          "name": "stdout",
          "text": [
            "[[ 0  0  0 ...  0  0  2]\n",
            " [ 0  0  0 ...  0  0 20]\n",
            " [ 0  0  0 ...  0  0  1]\n",
            " ...\n",
            " [ 0  0  0 ...  0  0 12]\n",
            " [ 0  0  0 ...  0  0  5]\n",
            " [ 0  0  0 ...  0  0  9]]\n"
          ]
        }
      ],
      "source": [
        "#vectorizing the tweet by the pre-fitted tokenizer instance\n",
        "twt = tokenizer.texts_to_sequences(data)\n",
        "#padding the tweet to have exactly the same shape as `embedding_2` input\n",
        "twt = pad_sequences(twt, maxlen=28, dtype='int32', value=0)\n",
        "print(twt)\n",
        "sentiment = model.predict(twt,batch_size=1,verbose = 2)[0]\n",
        "if(np.argmax(sentiment) == 0):\n",
        "    print(\"negative\")\n",
        "elif (np.argmax(sentiment) == 1):\n",
        "    print(\"positive\")"
      ]
    },
    {
      "cell_type": "code",
      "execution_count": null,
      "id": "55d15065",
      "metadata": {
        "id": "55d15065"
      },
      "outputs": [],
      "source": []
    }
  ],
  "metadata": {
    "kernelspec": {
      "display_name": "Python 3 (ipykernel)",
      "language": "python",
      "name": "python3"
    },
    "language_info": {
      "codemirror_mode": {
        "name": "ipython",
        "version": 3
      },
      "file_extension": ".py",
      "mimetype": "text/x-python",
      "name": "python",
      "nbconvert_exporter": "python",
      "pygments_lexer": "ipython3",
      "version": "3.9.13"
    },
    "colab": {
      "provenance": []
    }
  },
  "nbformat": 4,
  "nbformat_minor": 5
}